{
  "nbformat": 4,
  "nbformat_minor": 0,
  "metadata": {
    "colab": {
      "provenance": [],
      "authorship_tag": "ABX9TyPoODhJ3S9KSDWKqNT0KTyl",
      "include_colab_link": true
    },
    "kernelspec": {
      "name": "python3",
      "display_name": "Python 3"
    },
    "language_info": {
      "name": "python"
    }
  },
  "cells": [
    {
      "cell_type": "markdown",
      "metadata": {
        "id": "view-in-github",
        "colab_type": "text"
      },
      "source": [
        "<a href=\"https://colab.research.google.com/github/JaymariePasno/58013_LinearAlgebra/blob/main/Python_Exercise_9.ipynb\" target=\"_parent\"><img src=\"https://colab.research.google.com/assets/colab-badge.svg\" alt=\"Open In Colab\"/></a>"
      ]
    },
    {
      "cell_type": "code",
      "execution_count": 4,
      "metadata": {
        "colab": {
          "base_uri": "https://localhost:8080/"
        },
        "id": "5gCY8pkwho9o",
        "outputId": "d6c584e5-8462-4372-da20-b51c6ecbb27b"
      },
      "outputs": [
        {
          "output_type": "execute_result",
          "data": {
            "text/plain": [
              "3.0000000000000004"
            ]
          },
          "metadata": {},
          "execution_count": 4
        }
      ],
      "source": [
        "import numpy as np\n",
        "import matplotlib.pyplot as plt\n",
        "%matplotlib inline\n",
        "\n",
        "A = np.array([\n",
        "    [1,4],\n",
        "    [0,3]\n",
        "])\n",
        "np.linalg.det(A)"
      ]
    },
    {
      "cell_type": "code",
      "source": [
        "B = np.array([\n",
        "    [1,3,5,6],\n",
        "    [0,3,1,3],\n",
        "    [3,1,8,2],\n",
        "    [5,2,6,8]\n",
        "])\n",
        "np.linalg.det(B)"
      ],
      "metadata": {
        "colab": {
          "base_uri": "https://localhost:8080/"
        },
        "id": "hM9T1Jv-iUMY",
        "outputId": "0d405c9f-b45d-4fb9-99c7-3312ec378402"
      },
      "execution_count": 5,
      "outputs": [
        {
          "output_type": "execute_result",
          "data": {
            "text/plain": [
              "-235.0000000000002"
            ]
          },
          "metadata": {},
          "execution_count": 5
        }
      ]
    },
    {
      "cell_type": "code",
      "source": [
        "#MATRIX NO.1\n",
        "\n",
        "#(5,5) Dimension\n",
        "\n",
        "D = np.array([\n",
        "    [4,4,1,6,8],\n",
        "    [5,6,1,3,4],\n",
        "    [2,8,2,2,8],\n",
        "    [9,2,6,8,7],\n",
        "    [9,4,6,8,7]\n",
        "])\n",
        "np.linalg.det(D)"
      ],
      "metadata": {
        "colab": {
          "base_uri": "https://localhost:8080/"
        },
        "id": "fZceg27nibqJ",
        "outputId": "c577540a-831e-4382-a91b-d36b5004a3ab"
      },
      "execution_count": 6,
      "outputs": [
        {
          "output_type": "execute_result",
          "data": {
            "text/plain": [
              "984.0000000000016"
            ]
          },
          "metadata": {},
          "execution_count": 6
        }
      ]
    },
    {
      "cell_type": "code",
      "source": [
        "#MATRIX NO.2\n",
        "\n",
        "# (6,6) Dimension\n",
        "\n",
        "C = np.array([\n",
        "    [1,4,1,6,8,7],\n",
        "    [5,3,1,3,1,3],\n",
        "    [2,8,2,2,2,2],\n",
        "    [3,2,6,8,1,4],\n",
        "    [9,7,6,3,7,1],\n",
        "    [2,8,2,2,8,2]\n",
        "])\n",
        "np.linalg.det(C)"
      ],
      "metadata": {
        "colab": {
          "base_uri": "https://localhost:8080/"
        },
        "id": "blTJQ1W5idPp",
        "outputId": "7dd1e744-b567-498d-c2c6-a77de9cd29b9"
      },
      "execution_count": 7,
      "outputs": [
        {
          "output_type": "execute_result",
          "data": {
            "text/plain": [
              "12324.0"
            ]
          },
          "metadata": {},
          "execution_count": 7
        }
      ]
    },
    {
      "cell_type": "code",
      "source": [
        "#MATRIX NO.3\n",
        "\n",
        "# (7,7) Dimension\n",
        "\n",
        "D = np.array([\n",
        "    [1,4,1,6,8,7,1],\n",
        "    [5,3,1,3,1,3,1],\n",
        "    [2,8,2,2,2,2,6],\n",
        "    [3,2,6,8,1,4,2],\n",
        "    [9,7,6,3,7,1,3],\n",
        "    [2,8,2,2,8,2,3],\n",
        "    [3,5,1,2,3,2,4]\n",
        "])\n",
        "np.linalg.det(D)"
      ],
      "metadata": {
        "colab": {
          "base_uri": "https://localhost:8080/"
        },
        "id": "UOymbgWhimSg",
        "outputId": "3ddf75a5-de8a-442c-8423-4efd20cdbcad"
      },
      "execution_count": 8,
      "outputs": [
        {
          "output_type": "execute_result",
          "data": {
            "text/plain": [
              "25596.000000000015"
            ]
          },
          "metadata": {},
          "execution_count": 8
        }
      ]
    },
    {
      "cell_type": "code",
      "source": [
        "#MATRIX NO.4\n",
        "\n",
        "# (8,8) Dimension\n",
        "\n",
        "D = np.array([\n",
        "    [1,4,1,6,8,7,1,3],\n",
        "    [5,3,1,3,1,3,1,3],\n",
        "    [2,8,2,2,2,2,6,2],\n",
        "    [3,2,6,8,1,4,2,7],\n",
        "    [9,7,6,3,7,1,3,8],\n",
        "    [2,8,2,2,8,2,3,1],\n",
        "    [3,5,1,2,3,2,4,6],\n",
        "    [8,2,3,1,1,4,2,7]\n",
        "])\n",
        "np.linalg.det(D)"
      ],
      "metadata": {
        "colab": {
          "base_uri": "https://localhost:8080/"
        },
        "id": "6CkpS2WKivow",
        "outputId": "27dc77e3-5c71-433c-dac9-1d4880be07a6"
      },
      "execution_count": 9,
      "outputs": [
        {
          "output_type": "execute_result",
          "data": {
            "text/plain": [
              "130128.0"
            ]
          },
          "metadata": {},
          "execution_count": 9
        }
      ]
    },
    {
      "cell_type": "code",
      "source": [
        "#MATRIX NO.5\n",
        "\n",
        "# (9,9) Dimension\n",
        "\n",
        "D = np.array([\n",
        "    [1,4,1,6,8,7,1,3,8],\n",
        "    [5,3,1,3,1,3,1,3,6],\n",
        "    [2,8,2,2,2,2,6,2,7],\n",
        "    [3,2,6,8,1,4,2,7,2],\n",
        "    [9,7,6,3,7,1,3,8,1],\n",
        "    [2,8,2,2,8,2,3,1,5],\n",
        "    [3,5,1,2,3,2,4,6,7],\n",
        "    [8,2,3,1,1,4,2,7,1],\n",
        "    [5,3,1,3,1,3,1,3,6],\n",
        "])\n",
        "np.linalg.det(D)"
      ],
      "metadata": {
        "colab": {
          "base_uri": "https://localhost:8080/"
        },
        "id": "l5V7_nmvizsV",
        "outputId": "d4d8a888-dee5-4884-d620-a53ff855611f"
      },
      "execution_count": 10,
      "outputs": [
        {
          "output_type": "execute_result",
          "data": {
            "text/plain": [
              "1.1557688139873759e-10"
            ]
          },
          "metadata": {},
          "execution_count": 10
        }
      ]
    },
    {
      "cell_type": "code",
      "source": [
        "#MATRIX NO.6\n",
        "\n",
        "# (10,10) Dimension\n",
        "\n",
        "D = np.array([\n",
        "    [1,4,1,6,8,7,1,3,8,6],\n",
        "    [5,3,1,3,1,3,1,3,6,1],\n",
        "    [2,8,2,2,2,2,6,2,7,2],\n",
        "    [3,2,6,8,1,4,2,7,2,9],\n",
        "    [9,7,6,3,7,1,3,8,1,1],\n",
        "    [2,8,2,2,8,2,3,1,5,2],\n",
        "    [3,5,1,2,3,2,4,6,7,4],\n",
        "    [8,2,3,1,1,4,2,7,1,5],\n",
        "    [5,3,1,3,1,3,1,3,6,2],\n",
        "    [1,4,1,6,8,7,1,3,8,6],\n",
        "])\n",
        "np.linalg.det(D)"
      ],
      "metadata": {
        "colab": {
          "base_uri": "https://localhost:8080/"
        },
        "id": "w5tNZvKri2HR",
        "outputId": "98f45889-392e-40d4-9670-dcd90bc9f005"
      },
      "execution_count": 11,
      "outputs": [
        {
          "output_type": "execute_result",
          "data": {
            "text/plain": [
              "-1.0265289187460019e-25"
            ]
          },
          "metadata": {},
          "execution_count": 11
        }
      ]
    }
  ]
}