{
  "nbformat": 4,
  "nbformat_minor": 0,
  "metadata": {
    "colab": {
      "provenance": [],
      "authorship_tag": "ABX9TyNImtY1Bh/CyuweXYRq1kky",
      "include_colab_link": true
    },
    "kernelspec": {
      "name": "python3",
      "display_name": "Python 3"
    },
    "language_info": {
      "name": "python"
    }
  },
  "cells": [
    {
      "cell_type": "markdown",
      "metadata": {
        "id": "view-in-github",
        "colab_type": "text"
      },
      "source": [
        "<a href=\"https://colab.research.google.com/github/JaymariePasno/58013_LinearAlgebra/blob/main/Python_Exercise_9.ipynb\" target=\"_parent\"><img src=\"https://colab.research.google.com/assets/colab-badge.svg\" alt=\"Open In Colab\"/></a>"
      ]
    },
    {
      "cell_type": "code",
      "execution_count": 6,
      "metadata": {
        "colab": {
          "base_uri": "https://localhost:8080/"
        },
        "id": "UFDplmye6PT6",
        "outputId": "3dc69b39-6ce2-474c-ab1d-eb16014f9c45"
      },
      "outputs": [
        {
          "output_type": "stream",
          "name": "stdout",
          "text": [
            "3\n",
            "-235\n"
          ]
        }
      ],
      "source": [
        "import numpy as np\n",
        "import matplotlib.pyplot as plt\n",
        "%matplotlib inline\n",
        "\n",
        "A = np.array([\n",
        "    [1,4],\n",
        "    [0,3]\n",
        "])\n",
        "print(int(np.linalg.det(A)))\n",
        "\n",
        "B = np.array([\n",
        "    [1,3,5,6],\n",
        "    [0,3,1,3],\n",
        "    [3,1,8,2],\n",
        "    [5,2,6,8]\n",
        "])\n",
        "print(int(np.linalg.det(B)))\n"
      ]
    },
    {
      "cell_type": "code",
      "source": [],
      "metadata": {
        "id": "8CrCVPLvDKBX"
      },
      "execution_count": null,
      "outputs": []
    },
    {
      "cell_type": "code",
      "source": [
        "\n",
        "import numpy as np\n",
        "\n",
        "A = np.array([[1, 2, 3],\n",
        "              [4, 5, 6],\n",
        "              [7, 8, 9]])\n",
        "\n",
        "B = np.array([[9, 8, 7],\n",
        "              [6, 5, 4],\n",
        "              [3, 2, 1]])\n",
        "\n",
        "C = np.array([[2, 0, -2],\n",
        "              [1, 3, 5],\n",
        "              [-1, -4, -6]])\n",
        "\n",
        "# 1. Distributive Property\n",
        "left_side = A.dot(B + C)\n",
        "right_side = A.dot(B) + A.dot(C)\n",
        "print(\"1. Distributive Property:\")\n",
        "print(\"A(B + C) =\", left_side)\n",
        "print(\"AB + AC =\", right_side)\n",
        "print(np.array_equal(left_side, right_side))\n",
        "\n",
        "# 2. Associative Property\n",
        "left_side = (A.dot(B)).dot(C)\n",
        "right_side = A.dot(B.dot(C))\n",
        "print(\"\\n2. Associative Property:\")\n",
        "print(\"(AB)C =\", left_side)\n",
        "print(\"A(BC) =\", right_side)\n",
        "print(np.array_equal(left_side, right_side))\n",
        "\n",
        "# 3. Scalar Multiplication Distributive Property\n",
        "k = 2\n",
        "left_side = k * (A.dot(B))\n",
        "right_side = (k * A).dot(B)\n",
        "print(\"\\n3. Scalar Multiplication Distributive Property:\")\n",
        "print(\"k(AB) =\", left_side)\n",
        "print(\"(kA)B =\", right_side)\n",
        "print(np.array_equal(left_side, right_side))\n",
        "\n",
        "# 4. Identity Matrix Property\n",
        "I = np.identity(3)\n",
        "left_side = I.dot(A)\n",
        "right_side = A.dot(I)\n",
        "print(\"\\n4. Identity Matrix Property:\")\n",
        "print(\"IA =\", left_side)\n",
        "print(\"AI =\", right_side)\n",
        "print(np.array_equal(left_side, A) and np.array_equal(right_side, A))\n",
        "\n",
        "# 5. Multiplicative Property of Zero\n",
        "zero_matrix = np.zeros((3, 3))\n",
        "left_side = zero_matrix.dot(A)\n",
        "right_side = A.dot(zero_matrix)\n",
        "print(\"\\n5. Multiplicative Property of Zero:\")\n",
        "print(\"0A =\", left_side)\n",
        "print(\"A0 =\", right_side)\n",
        "print(np.array_equal(left_side, zero_matrix) and np.array_equal(right_side, zero_matrix))\n",
        "\n",
        "# 6. Transpose Property\n",
        "left_side = (A.dot(B)).T\n",
        "right_side = (B.T).dot(A.T)\n",
        "print(\"\\n6. Transpose Property:\")\n",
        "print(\"(AB)^T =\", left_side)\n",
        "print(\"B^T * A^T =\", right_side)\n",
        "print(np.array_equal(left_side, right_side))"
      ],
      "metadata": {
        "colab": {
          "base_uri": "https://localhost:8080/"
        },
        "id": "xE6NizQJ830s",
        "outputId": "a4a8ef21-0359-4943-aba5-a1952cc98363"
      },
      "execution_count": 7,
      "outputs": [
        {
          "output_type": "stream",
          "name": "stdout",
          "text": [
            "1. Distributive Property:\n",
            "A(B + C) = [[ 31  18   8]\n",
            " [ 91  60  35]\n",
            " [151 102  62]]\n",
            "AB + AC = [[ 31  18   8]\n",
            " [ 91  60  35]\n",
            " [151 102  62]]\n",
            "True\n",
            "\n",
            "2. Associative Property:\n",
            "(AB)C = [[  66    0  -48]\n",
            " [ 183   -9 -147]\n",
            " [ 300  -18 -246]]\n",
            "A(BC) = [[  66    0  -48]\n",
            " [ 183   -9 -147]\n",
            " [ 300  -18 -246]]\n",
            "True\n",
            "\n",
            "3. Scalar Multiplication Distributive Property:\n",
            "k(AB) = [[ 60  48  36]\n",
            " [168 138 108]\n",
            " [276 228 180]]\n",
            "(kA)B = [[ 60  48  36]\n",
            " [168 138 108]\n",
            " [276 228 180]]\n",
            "True\n",
            "\n",
            "4. Identity Matrix Property:\n",
            "IA = [[1. 2. 3.]\n",
            " [4. 5. 6.]\n",
            " [7. 8. 9.]]\n",
            "AI = [[1. 2. 3.]\n",
            " [4. 5. 6.]\n",
            " [7. 8. 9.]]\n",
            "True\n",
            "\n",
            "5. Multiplicative Property of Zero:\n",
            "0A = [[0. 0. 0.]\n",
            " [0. 0. 0.]\n",
            " [0. 0. 0.]]\n",
            "A0 = [[0. 0. 0.]\n",
            " [0. 0. 0.]\n",
            " [0. 0. 0.]]\n",
            "True\n",
            "\n",
            "6. Transpose Property:\n",
            "(AB)^T = [[ 30  84 138]\n",
            " [ 24  69 114]\n",
            " [ 18  54  90]]\n",
            "B^T * A^T = [[ 30  84 138]\n",
            " [ 24  69 114]\n",
            " [ 18  54  90]]\n",
            "True\n"
          ]
        }
      ]
    }
  ]
}