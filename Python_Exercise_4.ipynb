{
  "nbformat": 4,
  "nbformat_minor": 0,
  "metadata": {
    "colab": {
      "provenance": [],
      "authorship_tag": "ABX9TyMxIlGznQbojTVfO1A44L4A",
      "include_colab_link": true
    },
    "kernelspec": {
      "name": "python3",
      "display_name": "Python 3"
    },
    "language_info": {
      "name": "python"
    }
  },
  "cells": [
    {
      "cell_type": "markdown",
      "metadata": {
        "id": "view-in-github",
        "colab_type": "text"
      },
      "source": [
        "<a href=\"https://colab.research.google.com/github/JaymariePasno/58013_LinearAlgebra/blob/main/Python_Exercise_4.ipynb\" target=\"_parent\"><img src=\"https://colab.research.google.com/assets/colab-badge.svg\" alt=\"Open In Colab\"/></a>"
      ]
    },
    {
      "cell_type": "code",
      "execution_count": 2,
      "metadata": {
        "colab": {
          "base_uri": "https://localhost:8080/"
        },
        "id": "zfqEHutiRF88",
        "outputId": "c2a1c426-65da-4620-822b-fc13dd49083f"
      },
      "outputs": [
        {
          "output_type": "stream",
          "name": "stdout",
          "text": [
            "3.3\n",
            "20.8\n",
            "-0.7\n"
          ]
        }
      ],
      "source": [
        "import numpy as np\n",
        "\n",
        "A = np.array([-0.4, 4.3, -0.6])\n",
        "B = np.array([-0.20, 21])\n",
        "C = np.array([-0.2, 1, -1.5])\n",
        "\n",
        "vec_sum1 = np.sum(A)\n",
        "vec_sum2 = np.sum(B)\n",
        "vec_sum3 = np.sum(C)\n",
        "\n",
        "print(vec_sum1)\n",
        "print(vec_sum2)\n",
        "print(vec_sum3)"
      ]
    }
  ]
}