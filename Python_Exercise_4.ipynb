{
  "nbformat": 4,
  "nbformat_minor": 0,
  "metadata": {
    "colab": {
      "provenance": [],
      "authorship_tag": "ABX9TyPvb7bGM1OHLW15svYqdrXl",
      "include_colab_link": true
    },
    "kernelspec": {
      "name": "python3",
      "display_name": "Python 3"
    },
    "language_info": {
      "name": "python"
    }
  },
  "cells": [
    {
      "cell_type": "markdown",
      "metadata": {
        "id": "view-in-github",
        "colab_type": "text"
      },
      "source": [
        "<a href=\"https://colab.research.google.com/github/JaymariePasno/58013_LinearAlgebra/blob/main/Python_Exercise_4.ipynb\" target=\"_parent\"><img src=\"https://colab.research.google.com/assets/colab-badge.svg\" alt=\"Open In Colab\"/></a>"
      ]
    },
    {
      "cell_type": "code",
      "execution_count": 47,
      "metadata": {
        "colab": {
          "base_uri": "https://localhost:8080/"
        },
        "id": "VBsQ8PVPA8sW",
        "outputId": "c038b7e3-87ba-48a7-b4ea-25c2b72402d4"
      },
      "outputs": [
        {
          "output_type": "stream",
          "name": "stdout",
          "text": [
            "sum :  [-4.    4.5  -0.39]\n",
            "\n",
            "difference :  [-4.    4.1  -0.81]\n",
            "\n",
            "Dot product is: 0.734\n",
            "\n",
            "cross product :  [ 1.023  0.84  -0.8  ]\n",
            "\n",
            "scalar :  [-8.   8.6 -1.2]\n"
          ]
        }
      ],
      "source": [
        "import numpy as np\n",
        "A = np.array([-4, 4.3, -0.6])\n",
        "B = np.array([0, 0.20, 0.21])\n",
        "C = np.array([0, 0.22, 0.1 - 1.5])\n",
        "\n",
        "print (\"sum : \", A+B)\n",
        "print(\"\")\n",
        "\n",
        "print (\"difference : \", A-B)\n",
        "print(\"\")\n",
        "\n",
        "dotproduct = np.dot (A,B)\n",
        "print('Dot product is:', dotproduct)\n",
        "print(\"\")\n",
        "\n",
        "product = np.cross(A,B)\n",
        "print(\"cross product : \", product)\n",
        "print(\"\")\n",
        "\n",
        "scalar = 2\n",
        "scalar_multiplication_result = scalar*A\n",
        "print(\"scalar : \",scalar_multiplication_result)\n",
        "\n"
      ]
    }
  ]
}