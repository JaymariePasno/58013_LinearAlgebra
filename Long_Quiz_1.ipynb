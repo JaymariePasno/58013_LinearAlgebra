{
  "nbformat": 4,
  "nbformat_minor": 0,
  "metadata": {
    "colab": {
      "provenance": [],
      "authorship_tag": "ABX9TyPMm9LFtXG8KxEh7/UK7dK8",
      "include_colab_link": true
    },
    "kernelspec": {
      "name": "python3",
      "display_name": "Python 3"
    },
    "language_info": {
      "name": "python"
    }
  },
  "cells": [
    {
      "cell_type": "markdown",
      "metadata": {
        "id": "view-in-github",
        "colab_type": "text"
      },
      "source": [
        "<a href=\"https://colab.research.google.com/github/JaymariePasno/Linear-Algebra/blob/main/Long_Quiz_1.ipynb\" target=\"_parent\"><img src=\"https://colab.research.google.com/assets/colab-badge.svg\" alt=\"Open In Colab\"/></a>"
      ]
    },
    {
      "cell_type": "code",
      "execution_count": 52,
      "metadata": {
        "colab": {
          "base_uri": "https://localhost:8080/"
        },
        "id": "kZnLtJF-Q8qt",
        "outputId": "9b39fc48-019a-4428-a21c-7d4169909738"
      },
      "outputs": [
        {
          "output_type": "stream",
          "name": "stdout",
          "text": [
            "A =  [[1 2 3]\n",
            " [4 5 6]]\n",
            "B =  [[1 2]\n",
            " [3 4]\n",
            " [5 6]]\n",
            "C =  [[1 2 3]\n",
            " [4 5 6]\n",
            " [7 8 9]]\n",
            "D =  [[1 2]\n",
            " [3 4]]\n",
            "\n",
            "a. AB\n",
            "a =  [[22 28]\n",
            " [49 64]]\n",
            "\n",
            "b. D+D\n",
            "b =  [[2 4]\n",
            " [6 8]]\n",
            "\n",
            "c. 2C\n",
            "c =  [[ 2  4  6]\n",
            " [ 8 10 12]\n",
            " [14 16 18]]\n"
          ]
        }
      ],
      "source": [
        "import numpy as np\n",
        "\n",
        "A = np.array([[1, 2, 3], [4, 5, 6]])\n",
        "print('A = ',A)\n",
        "\n",
        "B = np.array([[1, 2], [3, 4], [5, 6]])\n",
        "print('B = ',B)\n",
        "\n",
        "C = np.array([[1, 2, 3], [4, 5, 6],[7, 8, 9]])\n",
        "print('C = ',C)\n",
        "\n",
        "D = np.array([[1, 2], [3, 4]])\n",
        "print('D = ',D)\n",
        "print(\"\")\n",
        "\n",
        "a = np.dot(A,B)\n",
        "print('a. AB')\n",
        "print('a = ',a)\n",
        "print(\"\")\n",
        "\n",
        "b = D+D\n",
        "print('b. D+D')\n",
        "print('b = ',b)\n",
        "print(\"\")\n",
        "\n",
        "c = 2*C\n",
        "print('c. 2C')\n",
        "print('c = ',c)"
      ]
    },
    {
      "cell_type": "code",
      "source": [
        "import numpy as np\n",
        "\n",
        "A=np.array([2,7,4])\n",
        "B=np.array([3,9,8])\n",
        "\n",
        "output = np.cross(A,B)\n",
        "print(output)"
      ],
      "metadata": {
        "colab": {
          "base_uri": "https://localhost:8080/"
        },
        "id": "fl6RUo0UlQS2",
        "outputId": "9713ed99-a69b-45c7-9353-b4ef808d50f8"
      },
      "execution_count": 53,
      "outputs": [
        {
          "output_type": "stream",
          "name": "stdout",
          "text": [
            "[20 -4 -3]\n"
          ]
        }
      ]
    }
  ]
}