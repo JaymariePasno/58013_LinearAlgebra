{
  "nbformat": 4,
  "nbformat_minor": 0,
  "metadata": {
    "colab": {
      "provenance": [],
      "authorship_tag": "ABX9TyOJoOTmVxI9ITwHdsOgfiFU",
      "include_colab_link": true
    },
    "kernelspec": {
      "name": "python3",
      "display_name": "Python 3"
    },
    "language_info": {
      "name": "python"
    }
  },
  "cells": [
    {
      "cell_type": "markdown",
      "metadata": {
        "id": "view-in-github",
        "colab_type": "text"
      },
      "source": [
        "<a href=\"https://colab.research.google.com/github/JaymariePasno/Linear-Algebra/blob/main/Python_Exercise_3.ipynb\" target=\"_parent\"><img src=\"https://colab.research.google.com/assets/colab-badge.svg\" alt=\"Open In Colab\"/></a>"
      ]
    },
    {
      "cell_type": "code",
      "execution_count": 39,
      "metadata": {
        "colab": {
          "base_uri": "https://localhost:8080/"
        },
        "id": "pbtkF-WM6VNQ",
        "outputId": "81e83f3a-fc29-4ee3-9e8a-56ce901c90e5"
      },
      "outputs": [
        {
          "output_type": "stream",
          "name": "stdout",
          "text": [
            "1st array :  [1 2 0]\n",
            "2nd array :  [ 3  1 -2]\n",
            "3rd array :  [0 0 1]\n",
            "sum :  [ 4  3 -2]\n",
            "\n",
            "1st array :  [1 2 0]\n",
            "2nd array :  [ 3  1 -2]\n",
            "difference :  [-2  1  2]\n",
            "\n",
            "1st array :  [1 2 0]\n",
            "2nd array :  [ 3  1 -2]\n",
            "product :  [3 2 0]\n",
            "\n",
            "1st array :  [1 2 0]\n",
            "2nd array :  [ 3  1 -2]\n",
            "qoutient :  [ 0.33333333  2.         -0.        ]\n",
            "\n",
            "1st array :  [3.9 1.8 7.7]\n",
            "2nd array :  [1 1 1]\n",
            "qoutient :  [3.9 1.8 7.7]\n",
            "\n"
          ]
        },
        {
          "output_type": "execute_result",
          "data": {
            "text/plain": [
              "array([3, 1, 7])"
            ]
          },
          "metadata": {},
          "execution_count": 39
        }
      ],
      "source": [
        "import numpy as np\n",
        "\n",
        "A = np.array([1,2,0])\n",
        "B = np.array([3,1,-2])\n",
        "C = np.array([0,0,1])\n",
        "\n",
        "\n",
        "print (\"1st array : \", A)\n",
        "print (\"2nd array : \", B)\n",
        "print (\"3rd array : \", C)\n",
        "\n",
        "print (\"sum : \", A+B)\n",
        "print(\"\")\n",
        "\n",
        "print (\"1st array : \", A)\n",
        "print (\"2nd array : \", B)\n",
        "\n",
        "print (\"difference : \", A-B)\n",
        "print(\"\")\n",
        "\n",
        "print (\"1st array : \", A)\n",
        "print (\"2nd array : \", B)\n",
        "\n",
        "print (\"product : \", A*B)\n",
        "print(\"\")\n",
        "\n",
        "print (\"1st array : \", A)\n",
        "print (\"2nd array : \", B)\n",
        "\n",
        "print (\"qoutient : \",A/B)\n",
        "print(\"\")\n",
        "\n",
        "C = np.array([3.9,1.8,7.7])\n",
        "D = np.array([1,1,1])\n",
        "\n",
        "print (\"1st array : \", C)\n",
        "print (\"2nd array : \", D)\n",
        "\n",
        "print (\"qoutient : \",C/D)\n",
        "print(\"\")\n",
        "\n",
        "np.array(A/B,dtype=int)"
      ]
    }
  ]
}