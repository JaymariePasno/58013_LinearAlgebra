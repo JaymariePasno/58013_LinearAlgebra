{
  "nbformat": 4,
  "nbformat_minor": 0,
  "metadata": {
    "colab": {
      "provenance": [],
      "authorship_tag": "ABX9TyNN0zw9eSCuvGu9qEoaGgqu",
      "include_colab_link": true
    },
    "kernelspec": {
      "name": "python3",
      "display_name": "Python 3"
    },
    "language_info": {
      "name": "python"
    }
  },
  "cells": [
    {
      "cell_type": "markdown",
      "metadata": {
        "id": "view-in-github",
        "colab_type": "text"
      },
      "source": [
        "<a href=\"https://colab.research.google.com/github/JaymariePasno/58013_LinearAlgebra/blob/main/Python_Exercise_6_.ipynb\" target=\"_parent\"><img src=\"https://colab.research.google.com/assets/colab-badge.svg\" alt=\"Open In Colab\"/></a>"
      ]
    },
    {
      "cell_type": "code",
      "execution_count": 2,
      "metadata": {
        "colab": {
          "base_uri": "https://localhost:8080/"
        },
        "id": "yc306jC-KLCs",
        "outputId": "2f9e7420-ac97-4388-9d9d-6fe3cd5aa15a"
      },
      "outputs": [
        {
          "output_type": "stream",
          "name": "stdout",
          "text": [
            "[[2, 4, 6, 8, 10], [3, 6, 9, 12, 15], [4, 8, 12, 16, 20]]\n"
          ]
        }
      ],
      "source": [
        "a = [[2, 4, 6, 8, 10], [3, 6, 9, 12, 15], [4, 8, 12, 16, 20]]\n",
        "print(a)"
      ]
    },
    {
      "cell_type": "code",
      "source": [
        "a = [[2, 4, 6, 8, 10], [3, 6, 9, 12, 15], [4, 8, 12, 16, 20]]\n",
        "for record in a:\n",
        "  print(record)"
      ],
      "metadata": {
        "colab": {
          "base_uri": "https://localhost:8080/"
        },
        "id": "lt4ESMGsKbF2",
        "outputId": "d9b4e229-b572-4e15-f425-ae31a24b5269"
      },
      "execution_count": 3,
      "outputs": [
        {
          "output_type": "stream",
          "name": "stdout",
          "text": [
            "[2, 4, 6, 8, 10]\n",
            "[3, 6, 9, 12, 15]\n",
            "[4, 8, 12, 16, 20]\n"
          ]
        }
      ]
    },
    {
      "cell_type": "code",
      "source": [
        "a = [ [2, 4, 6, 8 ],\n",
        " [ 1, 3, 5, 7 ],\n",
        " [ 8, 6, 4, 2 ],\n",
        " [ 7, 5, 3, 1 ] ]\n",
        "for i in range(len(a)) :\n",
        "   for j in range(len(a[i])) :\n",
        "    print(a[i][j], end=\" \")\n",
        "    print()"
      ],
      "metadata": {
        "colab": {
          "base_uri": "https://localhost:8080/"
        },
        "id": "Mj0P0KroKkHk",
        "outputId": "e4e2ca03-1973-423f-9787-f8c984f01214"
      },
      "execution_count": 12,
      "outputs": [
        {
          "output_type": "stream",
          "name": "stdout",
          "text": [
            "2 \n",
            "4 \n",
            "6 \n",
            "8 \n",
            "1 \n",
            "3 \n",
            "5 \n",
            "7 \n",
            "8 \n",
            "6 \n",
            "4 \n",
            "2 \n",
            "7 \n",
            "5 \n",
            "3 \n",
            "1 \n"
          ]
        }
      ]
    }
  ]
}