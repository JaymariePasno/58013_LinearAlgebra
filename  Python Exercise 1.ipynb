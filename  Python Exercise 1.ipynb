{
  "nbformat": 4,
  "nbformat_minor": 0,
  "metadata": {
    "colab": {
      "provenance": [],
      "authorship_tag": "ABX9TyOQf4+bOOW1PKL2l2yXaouz",
      "include_colab_link": true
    },
    "kernelspec": {
      "name": "python3",
      "display_name": "Python 3"
    },
    "language_info": {
      "name": "python"
    }
  },
  "cells": [
    {
      "cell_type": "markdown",
      "metadata": {
        "id": "view-in-github",
        "colab_type": "text"
      },
      "source": [
        "<a href=\"https://colab.research.google.com/github/JaymariePasno/Linear-Algebra/blob/main/%20Python%20Exercise%201.ipynb\" target=\"_parent\"><img src=\"https://colab.research.google.com/assets/colab-badge.svg\" alt=\"Open In Colab\"/></a>"
      ]
    },
    {
      "cell_type": "code",
      "execution_count": 127,
      "metadata": {
        "colab": {
          "base_uri": "https://localhost:8080/"
        },
        "id": "z0QCA6XcG9nK",
        "outputId": "d4201a80-a537-4243-eff4-e9088533af08"
      },
      "outputs": [
        {
          "output_type": "stream",
          "name": "stdout",
          "text": [
            "1 is of type <class 'int'>\n",
            "1.0 is of type <class 'float'>\n",
            "1.0 is of type <class 'float'>\n",
            "0 , 1 , one , is of type <class 'str'> <class 'str'> <class 'str'>\n",
            "s is of type <class 'str'>\n"
          ]
        }
      ],
      "source": [
        "x = 1\n",
        "a, b = 0, -1\n",
        "\n",
        "print(x, 'is of type', type(x))\n",
        "\n",
        "y = 1.0\n",
        "print(y, 'is of type',type(y))\n",
        "\n",
        "x = float(x)\n",
        "print(x, 'is of type', type(x))\n",
        "\n",
        "s,t,u=\"0\",'1','one'\n",
        "print(s,\",\",t,\",\",u,\",\", 'is of type', type(s),type(t),type(u))\n",
        "\n",
        "s_int=\"s\"\n",
        "print(s_int,\"is of type\",type(s_int))"
      ]
    },
    {
      "cell_type": "code",
      "source": [],
      "metadata": {
        "id": "56FyzmP1sNhD"
      },
      "execution_count": null,
      "outputs": []
    },
    {
      "cell_type": "code",
      "source": [
        "a, b, c, d = 2.0, -0.5, 0, -32\n",
        "### Addition\n",
        "Sum= a+b\n",
        "print(\"The sum of\",a,\"and\",b,\"is: \",sum)\n",
        "\n",
        "### Subtraction\n",
        "Difference = b-d\n",
        "print(\"The difference between\",b,\"and\",d,\"is: \",Difference)\n",
        "\n",
        "### Multiplication\n",
        "Product = a*d\n",
        "print(\"The product of\",a,\"and\",d,\"is: \",Product)\n",
        "\n",
        "### Division\n",
        "Quotient =c/a\n",
        "print(\"The quotient of\",c,\"and\",a,\"is: \",Quotient)\n",
        "\n",
        "### Exponentiation\n",
        "Exponentiation = a**b\n",
        "print(\"the exponentiation of\",a,\"and\",b,\"is: \",Exponentiation)\n",
        "\n",
        "### Modulo\n",
        "Modulo = d%a\n",
        "print(\"the modulo of\",d,\"and\",a,\"is: \",Modulo)"
      ],
      "metadata": {
        "colab": {
          "base_uri": "https://localhost:8080/"
        },
        "id": "YvBNFkJXOSSX",
        "outputId": "4ebf546d-ff5c-4b06-eead-0f05467acef1"
      },
      "execution_count": null,
      "outputs": [
        {
          "output_type": "stream",
          "name": "stdout",
          "text": [
            "The sum of 2.0 and -0.5 is:  1.5\n",
            "The difference between -0.5 and -32 is:  31.5\n",
            "The product of 2.0 and -32 is:  -64.0\n",
            "The quotient of 0 and 2.0 is:  0.0\n",
            "the exponentiation of 2.0 and -0.5 is:  0.7071067811865476\n",
            "the modulo of -32 and 2.0 is:  0.0\n"
          ]
        }
      ]
    },
    {
      "cell_type": "code",
      "source": [],
      "metadata": {
        "id": "vTjqsBspnv71"
      },
      "execution_count": null,
      "outputs": []
    },
    {
      "cell_type": "code",
      "source": [
        "G, H, J, K = 0, 100, 2, 2\n",
        "G += J\n",
        "print(\"the answer is: \",G)\n",
        "\n",
        "H -= K\n",
        "print(\"the answer is: \",H)\n",
        "\n",
        "J *= 2\n",
        "print(\"the answer is: \",J)\n",
        "\n",
        "K **= 2\n",
        "print(\"the answer is: \",K)"
      ],
      "metadata": {
        "colab": {
          "base_uri": "https://localhost:8080/"
        },
        "id": "7wsgb-VUsQRO",
        "outputId": "0303ad13-97c8-40c8-a74c-d672902b17a6"
      },
      "execution_count": 67,
      "outputs": [
        {
          "output_type": "stream",
          "name": "stdout",
          "text": [
            "the answer is:  2\n",
            "the answer is:  98\n",
            "the answer is:  4\n",
            "the answer is:  4\n"
          ]
        }
      ]
    },
    {
      "cell_type": "code",
      "source": [],
      "metadata": {
        "id": "PwJkKkpBvE2Y"
      },
      "execution_count": null,
      "outputs": []
    },
    {
      "cell_type": "code",
      "source": [
        "res_1, res_2, res_3 = 1, 2.0, \"1\"\n",
        "true_val = 1.0\n",
        "\n",
        "## Equality\n",
        "print(\"the answer is\",res_1 == true_val)\n",
        "\n",
        "## Non-equality\n",
        "print(\"the answer is\",res_2 != true_val)\n",
        "\n",
        "## Inequality\n",
        "t1 = res_1 > res_2\n",
        "print(\"the answer is\",t1)\n",
        "\n",
        "t2 = res_1 < res_2/2\n",
        "print(\"the answer is\",t2)\n",
        "\n",
        "t3 = res_1 >= res_2/2\n",
        "print(\"the answer is\",t3)\n",
        "\n",
        "t4 = res_1 <= res_2\n",
        "print(\"the answer is\",t4)"
      ],
      "metadata": {
        "colab": {
          "base_uri": "https://localhost:8080/"
        },
        "id": "97H5PRZKvFn_",
        "outputId": "172d92f9-32ba-4d8f-ffed-600fa50376ec"
      },
      "execution_count": 75,
      "outputs": [
        {
          "output_type": "stream",
          "name": "stdout",
          "text": [
            "the answer is True\n",
            "the answer is True\n",
            "the answer is False\n",
            "the answer is False\n",
            "the answer is True\n",
            "the answer is True\n"
          ]
        }
      ]
    },
    {
      "cell_type": "code",
      "source": [],
      "metadata": {
        "id": "6mG0vWRbyUGE"
      },
      "execution_count": null,
      "outputs": []
    },
    {
      "cell_type": "code",
      "source": [
        "from re import X\n",
        "res_1, res_2, res_3 = 1, 2.0, \"1\"\n",
        "true_val = 1.0\n",
        "\n",
        "x1= res_1 == true_val\n",
        "print(\"the answer is:\",x1)\n",
        "\n",
        "x2= res_1 is true_val\n",
        "print(\"the answer is:\",x2)\n",
        "\n",
        "x3= res_1 is not true_val\n",
        "print(\"the answer is:\",x3)\n",
        "\n",
        "p, q = True, False\n",
        "conj = p and q\n",
        "print(\"the answer is:\",conj)\n",
        "\n",
        "p, q = True, False\n",
        "disj = p or q\n",
        "print(\"the answer is:\",disj)\n",
        "\n",
        "p, q = True, False\n",
        "nand = not(p and q)\n",
        "print(\"the answer is:\",nand)\n",
        "\n",
        "p, q = True, False\n",
        "xor = (not p and q) or (p and not q)\n",
        "print(\"the answer is:\",xor)"
      ],
      "metadata": {
        "colab": {
          "base_uri": "https://localhost:8080/"
        },
        "id": "0NhwPYOgyWLk",
        "outputId": "ff83210f-d4d9-48de-9b72-c65ce417a6c2"
      },
      "execution_count": 86,
      "outputs": [
        {
          "output_type": "stream",
          "name": "stdout",
          "text": [
            "the answer is: True\n",
            "the answer is: False\n",
            "the answer is: True\n",
            "the answer is: False\n",
            "the answer is: True\n",
            "the answer is: True\n",
            "the answer is: True\n"
          ]
        }
      ]
    },
    {
      "cell_type": "code",
      "source": [],
      "metadata": {
        "id": "Ks_abuvl6OXD"
      },
      "execution_count": null,
      "outputs": []
    },
    {
      "cell_type": "code",
      "source": [
        "print(\"Hello World\")\n",
        "\n",
        "cnt = 1\n",
        "\n",
        "string = \"Hello World\"\n",
        "print(string, \", Current run count is:\", cnt)\n",
        "cnt += 1\n",
        "\n",
        "print(f\"{string}, Current count is: {cnt}\")\n",
        "print(\"\")\n",
        "\n",
        "sem_grade = 82.243564657461234\n",
        "print(\"sem grade : \",sem_grade)\n",
        "name = input(\"name: \")\n",
        "print(\"Hello {}, your semestral grade is: {}\".format(name, sem_grade))\n",
        "print(\"\")\n",
        "\n",
        "w_pg, w_mg, w_fg = 0.3, 0.3, 0.4\n",
        "print(\"The weights of your semestral grades are:\\\n",
        "\\n\\t{:.2%} for Prelims\\\n",
        "\\n\\t{:.2%} for Midterms, and\\\n",
        "\\n\\t{:.2%} for Finals.\".format(w_pg, w_mg, w_fg))\n",
        "print(\"\")\n",
        "\n",
        "x = input(\"enter a number: \")\n",
        "print(\"number: \",x)\n",
        "print(\"\")\n",
        "\n",
        "name =input(\"Kimi no nawa: \")\n",
        "pg =int (input(\"Enter prelim grade: \"))\n",
        "mg =int (input(\"Enter midterm grade: \"))\n",
        "fg =int (input(\"Enter finals grade: \"))\n",
        "sem_grade = (pg+mg+fg)/3\n",
        "print(\"sem grade: \",sem_grade)\n",
        "print(\"Hello {}, your semestral grade is: {}\".format(name, sem_grade))"
      ],
      "metadata": {
        "colab": {
          "base_uri": "https://localhost:8080/"
        },
        "id": "T8ic2MFs6OEv",
        "outputId": "87829fc3-a1e5-496f-f6d0-f97b03a298fa"
      },
      "execution_count": 116,
      "outputs": [
        {
          "output_type": "stream",
          "name": "stdout",
          "text": [
            "Hello World\n",
            "Hello World , Current run count is: 1\n",
            "Hello World, Current count is: 2\n",
            "\n",
            "sem grade :  82.24356465746123\n",
            "name: jj\n",
            "Hello jj, your semestral grade is: 82.24356465746123\n",
            "\n",
            "The weights of your semestral grades are:\n",
            "\t30.00% for Prelims\n",
            "\t30.00% for Midterms, and\n",
            "\t40.00% for Finals.\n",
            "\n",
            "enter a number: 80\n",
            "number:  80\n",
            "\n",
            "Kimi no nawa: jj pasno\n",
            "Enter prelim grade: 90\n",
            "Enter midterm grade: 90\n",
            "Enter finals grade: 90\n",
            "sem grade:  90.0\n",
            "Hello jj pasno, your semestral grade is: 90.0\n"
          ]
        }
      ]
    },
    {
      "cell_type": "code",
      "source": [],
      "metadata": {
        "id": "LlWgiBAeFuhc"
      },
      "execution_count": null,
      "outputs": []
    },
    {
      "cell_type": "code",
      "source": [
        "## while loops\n",
        "i, j = 0, 10\n",
        "while(i<=j):\n",
        "  print(f\"{i}\\t|\\t{j}\")\n",
        "  i+=1\n",
        "print(\"\")\n",
        "# for(int i=0; i<10; i++){\n",
        "# printf(i)\n",
        "# }\n",
        "\n",
        "i=0\n",
        "for i in range(10):\n",
        "  print(i)"
      ],
      "metadata": {
        "colab": {
          "base_uri": "https://localhost:8080/"
        },
        "id": "RaDJrg2MFu_n",
        "outputId": "7b5b58d7-ccb8-4a3d-ffaf-588fb76aa763"
      },
      "execution_count": 121,
      "outputs": [
        {
          "output_type": "stream",
          "name": "stdout",
          "text": [
            "0\t|\t10\n",
            "1\t|\t10\n",
            "2\t|\t10\n",
            "3\t|\t10\n",
            "4\t|\t10\n",
            "5\t|\t10\n",
            "6\t|\t10\n",
            "7\t|\t10\n",
            "8\t|\t10\n",
            "9\t|\t10\n",
            "10\t|\t10\n",
            "\n",
            "0\n",
            "1\n",
            "2\n",
            "3\n",
            "4\n",
            "5\n",
            "6\n",
            "7\n",
            "8\n",
            "9\n"
          ]
        }
      ]
    },
    {
      "cell_type": "code",
      "source": [],
      "metadata": {
        "id": "EGoymBd6KA9r"
      },
      "execution_count": null,
      "outputs": []
    },
    {
      "cell_type": "code",
      "source": [
        "###Condition Statements\n",
        "numeral1, numeral2 = 12, 12\n",
        "if(numeral1 == numeral2):\n",
        "  print(\"Yey\")\n",
        "elif(numeral1>numeral2):\n",
        "  print(\"Hoho\")\n",
        "else:\n",
        "    print(\"Aww\")\n",
        "print(\"Hip hip\")"
      ],
      "metadata": {
        "colab": {
          "base_uri": "https://localhost:8080/"
        },
        "id": "AHu4vV7tKAO9",
        "outputId": "e71b7133-46f0-4171-b2b9-9ce8246675fb"
      },
      "execution_count": 120,
      "outputs": [
        {
          "output_type": "stream",
          "name": "stdout",
          "text": [
            "Yey\n",
            "Hip hip\n"
          ]
        }
      ]
    },
    {
      "cell_type": "code",
      "source": [],
      "metadata": {
        "id": "y3vq0n1bOTC9"
      },
      "execution_count": null,
      "outputs": []
    },
    {
      "cell_type": "code",
      "source": [
        "# void DeleteUser(int userid){\n",
        "# delete(userid);\n",
        "# }\n",
        "\n",
        "def delete_user (userid):\n",
        "  print(\"Successfully deleted user: {}\".format(userid))\n",
        "\n",
        "def delete_all_users ():\n",
        "  print(\"Successfully deleted all users\")"
      ],
      "metadata": {
        "id": "N4pD_GE6OSy2"
      },
      "execution_count": 123,
      "outputs": []
    }
  ]
}