{
  "nbformat": 4,
  "nbformat_minor": 0,
  "metadata": {
    "colab": {
      "provenance": [],
      "authorship_tag": "ABX9TyNehuUgZ0BAk8Plls8XyLHL",
      "include_colab_link": true
    },
    "kernelspec": {
      "name": "python3",
      "display_name": "Python 3"
    },
    "language_info": {
      "name": "python"
    }
  },
  "cells": [
    {
      "cell_type": "markdown",
      "metadata": {
        "id": "view-in-github",
        "colab_type": "text"
      },
      "source": [
        "<a href=\"https://colab.research.google.com/github/JaymariePasno/LinearAlgebra/blob/main/Python_Exercise_10.ipynb\" target=\"_parent\"><img src=\"https://colab.research.google.com/assets/colab-badge.svg\" alt=\"Open In Colab\"/></a>"
      ]
    },
    {
      "cell_type": "code",
      "execution_count": 3,
      "metadata": {
        "colab": {
          "base_uri": "https://localhost:8080/"
        },
        "id": "7aqaMSgW-C58",
        "outputId": "a6eeefb3-5f0b-4457-ae04-6c189b0a5f5c"
      },
      "outputs": [
        {
          "output_type": "stream",
          "name": "stdout",
          "text": [
            "[[ 1.  1.  1.]\n",
            " [ 3. -2. -1.]\n",
            " [-1.  4.  2.]]\n",
            "(3, 3) \n",
            "\n",
            "[[ 1.]\n",
            " [ 4.]\n",
            " [-3.]]\n",
            "(3, 1)\n"
          ]
        }
      ],
      "source": [
        "import numpy as np\n",
        "\n",
        "X = np.array([\n",
        "    [1,1,1],\n",
        "    [3,-2,-1],\n",
        "    [-1,4,2]\n",
        "], dtype=float)\n",
        "Y = np.array([\n",
        "    [1],\n",
        "    [4],\n",
        "    [-3]\n",
        "],dtype=float)\n",
        "print(X)\n",
        "print(X.shape, \"\\n\")\n",
        "print(Y)\n",
        "print(Y.shape)\n"
      ]
    },
    {
      "cell_type": "code",
      "source": [
        "import numpy as np\n",
        "\n",
        "quantities = np.array([[30,10,120],[40,20,200],[50,40,360]])\n",
        "total_cost = np.array([12500,18000,25700])\n",
        "\n",
        "A = quantities\n",
        "\n",
        "B = total_cost\n",
        "\n",
        "prices = np.linalg.solve(A,B)\n",
        "price_per_sack_of_flour, price_per_pack_of_yeast, price_per_egg = prices\n",
        "\n",
        "print(f\"Price per sack of flour: {price_per_sack_of_flour:.2f} pesos\")\n",
        "print(f\"Price per pack of yeast: {price_per_pack_of_yeast:.2f} pesos\")\n",
        "print(f\"Price per egg: {price_per_egg:.2f} pesos\")"
      ],
      "metadata": {
        "colab": {
          "base_uri": "https://localhost:8080/"
        },
        "id": "W7aEXDU0-p1s",
        "outputId": "8aacf479-ccb1-4398-a58b-b48e541a45bf"
      },
      "execution_count": 7,
      "outputs": [
        {
          "output_type": "stream",
          "name": "stdout",
          "text": [
            "Price per sack of flour: 330.00 pesos\n",
            "Price per pack of yeast: 140.00 pesos\n",
            "Price per egg: 10.00 pesos\n"
          ]
        }
      ]
    }
  ]
}